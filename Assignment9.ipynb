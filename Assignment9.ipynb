{
  "nbformat": 4,
  "nbformat_minor": 0,
  "metadata": {
    "colab": {
      "provenance": []
    },
    "kernelspec": {
      "name": "python3",
      "display_name": "Python 3"
    },
    "language_info": {
      "name": "python"
    }
  },
  "cells": [
    {
      "cell_type": "code",
      "execution_count": 2,
      "metadata": {
        "colab": {
          "base_uri": "https://localhost:8080/"
        },
        "id": "9_P2yG-yfjv0",
        "outputId": "acb4e87b-ca67-46de-a74b-9f4544c47284"
      },
      "outputs": [
        {
          "output_type": "stream",
          "name": "stderr",
          "text": [
            "/usr/local/lib/python3.10/dist-packages/sklearn/cluster/_kmeans.py:870: FutureWarning: The default value of `n_init` will change from 10 to 'auto' in 1.4. Set the value of `n_init` explicitly to suppress the warning\n",
            "  warnings.warn(\n"
          ]
        },
        {
          "output_type": "stream",
          "name": "stdout",
          "text": [
            "Train Silhouette Score: 0.2510836744781173\n",
            "Test Silhouette Score: 0.23848677058258386\n"
          ]
        }
      ],
      "source": [
        "import pandas as pd\n",
        "from sklearn.model_selection import train_test_split\n",
        "from sklearn.preprocessing import StandardScaler\n",
        "from sklearn.cluster import KMeans\n",
        "from sklearn.metrics import silhouette_score\n",
        "\n",
        "# Read the data with pandas\n",
        "data = pd.read_csv(\"/CC_GENERAL[1].csv\")\n",
        "\n",
        "# Preprocessing\n",
        "data.dropna(inplace=True)\n",
        "X = data.drop(columns=[\"CUST_ID\"])\n",
        "\n",
        "# Standardize the data\n",
        "scaler = StandardScaler()\n",
        "X_scaled = scaler.fit_transform(X)\n",
        "\n",
        "# Split data into train and test sets\n",
        "X_train, X_test = train_test_split(X_scaled, test_size=0.2, random_state=42)\n",
        "\n",
        "# Apply KMeans clustering\n",
        "kmeans = KMeans(n_clusters=3, random_state=42)\n",
        "kmeans.fit(X_train)\n",
        "\n",
        "# Predict clusters\n",
        "train_clusters = kmeans.predict(X_train)\n",
        "test_clusters = kmeans.predict(X_test)\n",
        "\n",
        "# Evaluate the model\n",
        "train_silhouette_score = silhouette_score(X_train, train_clusters)\n",
        "test_silhouette_score = silhouette_score(X_test, test_clusters)\n",
        "\n",
        "# Print results\n",
        "print(\"Train Silhouette Score:\", train_silhouette_score)\n",
        "print(\"Test Silhouette Score:\", test_silhouette_score)"
      ]
    }
  ]
}